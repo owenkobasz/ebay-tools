{
 "cells": [
  {
   "cell_type": "code",
   "id": "initial_id",
   "metadata": {
    "collapsed": true,
    "ExecuteTime": {
     "end_time": "2025-03-25T01:33:58.536169Z",
     "start_time": "2025-03-25T01:33:58.532206Z"
    }
   },
   "source": [
    "import pandas as pd\n",
    "import ebay_sales_anayler as esa\n",
    "csv_path = \"/Users/owen3/Desktop/main_directory/work/side_hustles/ebay/2024/Order_earnings_20240101_20250101.csv\""
   ],
   "outputs": [],
   "execution_count": 5
  },
  {
   "metadata": {
    "ExecuteTime": {
     "end_time": "2025-03-25T01:35:48.899023Z",
     "start_time": "2025-03-25T01:35:48.894595Z"
    }
   },
   "cell_type": "code",
   "source": [
    "with open(csv_path, \"r\", encoding=\"utf-8\") as f:\n",
    "    for i in range(30):\n",
    "        print(f.readline().strip())"
   ],
   "id": "c5b733c9987205fc",
   "outputs": [
    {
     "name": "stdout",
     "output_type": "stream",
     "text": [
      "﻿--,--,--,--,--,--,--,--,--,--,--,--,--\n",
      "Notes\n",
      "Report is based upon the order creation date.Any expenses and refunds associated with the order would reflect values at that given moment.\n",
      "\"Gross amount: This amount includes the item subtotal, shipping and handling, and seller collected tax. It doesn’t include any taxes or fees that eBay collects.\"\n",
      "Order earnings: This shows your earnings after deducting expenses and refunds from your gross amount.\n",
      "\"eBay collected tax: This is the tax eBay collects from buyers for the sale. Based on your buyers location, this can be VAT/GST/HST/QST/PST/IST.\"\n",
      "All amounts are inclusive of tax.\n",
      "\"\"\"--\"\" indicates there is no value in the cell.\"\n",
      "\n",
      "Order earnings report\n",
      "Seller,esmesattic\n",
      "Start date,Jan-01-2024 00:00:00 AM PST\n",
      "End date,Jan-01-2025 23:59:59 PM PST\n",
      "Report creation date,Mar-24-2025 17:00:35 PM PDT\n",
      "\n",
      "Order creation date,Order number,Item ID,Item title,Buyer name,Ship to city,Ship to province/region/state,Ship to zip,Ship to country,Transaction currency,eBay collected tax,Item price,Quantity,Item subtotal,Shipping and handling,Seller collected tax,Discount,Payout currency,Gross amount,Final Value Fee - fixed,Final Value Fee - variable,Below standard performance fee,\"Very high \"\"item not as described\"\" fee\",International fee,Deposit processing fee,Regulatory operating fee,Promoted Listing Standard fee,Charity donation,Shipping labels,Payment Dispute Fee,Expenses,Refunds,Order earnings\n",
      "\"Jan 2, 2024\",22-10995-12446,225926482300,Shimano Ultegra RD-6600 10 Speed Short Cage Rear Derailleur (Minty!),Dennis McNally,Haddon Township,NJ,08108-2445,US,USD,3.31,40,1,40,10,--,--,USD,50,-0.3,-7.06,--,--,--,--,--,--,--,-5.85,--,-13.21,--,36.79\n",
      "\"Jan 3, 2024\",08-11009-20924,225926477369,Campagnolo Chorus Carbon Rear Derailleur 10s Short Cage,John Delaney,Pleasanton,CA,94566-4710,US,USD,9.74,95,1,95,10,--,--,USD,105,-0.3,-15.2,--,--,--,--,--,--,--,-6.78,--,-22.28,--,82.72\n",
      "\"Jan 8, 2024\",22-11020-54883,225949637968,Gerry Johansson - Härryda Kommun - Signed,IYCSM LTZY,PORTLAND,OR,97230-1114,US,USD,--,40,1,40,10,--,--,USD,50,-0.3,-7.48,--,--,--,--,--,--,--,-3.92,--,-11.7,--,38.3\n",
      "\"Jan 9, 2024\",25-11021-33984,225951032141,Vintage Specialized S-Works Mondo Tires - 700 x 23c,Thomas Baquial,Colfax,CA,95713-9584,US,USD,2.9,40,1,40,10,--,--,USD,50,-0.3,-7.01,--,--,--,--,--,--,--,-13.17,--,-20.48,--,29.52\n",
      "\"Jan 9, 2024\",09-11033-32403,225949389657,Manitou Answer Vintage 90s CNC Fork 1” threadless for 26” Mtb (MiUS),Brad Davis,Washoe Valley,NV,89704-9533,US,USD,9.5,115,1,115,25,--,--,USD,140,-0.3,-19.81,--,--,--,--,--,--,--,--,--,-20.11,--,119.89\n",
      "\"Jan 9, 2024\",08-11034-49254,225951024700,Vredestein Fortezza Pink Tires - 700x23c,Abbas Abidi,Plantation,FL,33324-4970,US,USD,4.9,60,1,60,10,--,--,USD,70,-0.3,-9.92,--,--,--,--,--,--,--,-9.94,--,-20.16,--,49.84\n",
      "\"Jan 10, 2024\",22-11027-24358,225949543296,Shimano 105 FC-R7000 Crankset - 50/34,Paul Baker,Port Coquitlam,BC,V3C6M4,CA,USD,--,90,1,90,20,--,--,USD,110,-0.3,-14.58,--,--,--,--,--,--,--,-9.59,--,-24.47,--,85.53\n",
      "\"Jan 10, 2024\",16-11031-82796,225949641658,Garrett Grove - Errors of Possession - Signed (Trespasser),mark wood,chattanooga,TN,37419-1802,US,USD,12.49,125,1,125,10,--,--,USD,135,-0.3,-22.05,--,--,--,--,--,--,--,-4.67,--,-27.02,--,107.98\n",
      "\"Jan 19, 2024\",17-11067-97437,225900377969,Pro-Flex OffRoad Frameset Vintage Mountain Bike,JEONGHUN LEE,New Castle,DE,19720-2784,US,USD,--,85,1,85,75,--,--,USD,160,-0.3,-21.2,--,--,-2.64,--,--,--,--,-13.92,--,-38.06,--,121.94\n",
      "\"Jan 20, 2024\",09-11076-49480,225949422300,Campagnolo Record 2x 10 Speed Road Bike Clamp On Front Derailleur 32mm Clamp,Steven Tracy,Indianapolis,IN,46220-3117,US,USD,3.15,45,1,45,10,--,--,USD,55,-0.3,-7.7,--,--,--,--,--,--,--,-4.38,--,-12.38,--,42.62\n",
      "\"Jan 24, 2024\",03-11101-02915,225967056860,Vintage Shimano Deore XT ST-M095 Shifter Set 7s Brake Lever Combo 3x7,Justin Griffen,Bellingham,WA,98225-1624,US,USD,7.92,80,1,80,10,--,--,USD,90,-0.3,-12.97,--,--,--,--,--,--,--,-8.02,--,-21.29,--,68.71\n",
      "\"Jan 26, 2024\",14-11101-13426,225975912509,Campagnolo Record 2x 10 Speed Road Bike Clamp On Front Derailleur 32mm Clamp,scott sweeney,Salinas,CA,93907-8546,US,USD,3.49,45,1,45,10,--,--,USD,55,-0.3,-7.75,--,--,--,--,--,--,--,-5.62,--,-13.67,--,41.33\n",
      "\"Jan 27, 2024\",07-11110-10048,225964076311,Shimano 105 FC-R7000 Crankset - 50/34,Chase Erickson,Puyallup,WA,98372-2913,US,USD,12.12,100,1,100,20,--,--,USD,120,-0.3,-17.51,--,--,--,--,--,--,--,-10.93,--,-28.74,--,91.26\n",
      "\"Jan 28, 2024\",04-11114-36579,225949404571,\"Long Quill Stem, 25.4mm Clamp, 70mm Reach\",Michael Truitt,Jeffersonville,IN,47130-8475,US,USD,2.45,35,1,35,10,--,--,USD,45,-0.3,-6.29,--,--,--,--,--,--,--,-5.93,--,-12.52,--,32.48\n"
     ]
    }
   ],
   "execution_count": 7
  },
  {
   "metadata": {},
   "cell_type": "code",
   "outputs": [],
   "execution_count": null,
   "source": "",
   "id": "6e6fc8c5e4c30705"
  }
 ],
 "metadata": {
  "kernelspec": {
   "display_name": "Python 3",
   "language": "python",
   "name": "python3"
  },
  "language_info": {
   "codemirror_mode": {
    "name": "ipython",
    "version": 2
   },
   "file_extension": ".py",
   "mimetype": "text/x-python",
   "name": "python",
   "nbconvert_exporter": "python",
   "pygments_lexer": "ipython2",
   "version": "2.7.6"
  }
 },
 "nbformat": 4,
 "nbformat_minor": 5
}
